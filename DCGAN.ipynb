{
 "cells": [
  {
   "cell_type": "code",
   "execution_count": 29,
   "id": "223304ce-e9cf-4927-806c-f120f27a8af8",
   "metadata": {},
   "outputs": [
    {
     "name": "stdout",
     "output_type": "stream",
     "text": [
      "Files already downloaded and verified\n"
     ]
    }
   ],
   "source": [
    "import torch\n",
    "import torch.nn as nn\n",
    "import torch.optim as optim\n",
    "import torchvision\n",
    "import torchvision.transforms as transforms\n",
    "from torch.utils.data import DataLoader, Subset\n",
    "import numpy as np\n",
    "\n",
    "# 데이터 전처리\n",
    "transform = transforms.Compose([\n",
    "    transforms.ToTensor(),\n",
    "    transforms.Normalize((0.5, 0.5, 0.5), (0.5, 0.5, 0.5))  # DCGAN은 [-1, 1] 범위로 데이터를 정규화\n",
    "])\n",
    "\n",
    "# CIFAR-10 데이터셋 로드\n",
    "cifar10_dataset = torchvision.datasets.CIFAR10(root='./data', train=True, download=True, transform=transform)\n",
    "\n",
    "# 고양이(클래스 레이블 3) 이미지만 선택\n",
    "cat_indices = [i for i, (_, label) in enumerate(cifar10_dataset) if label == 3] # 인덱스 추출\n",
    "cat_dataset = Subset(cifar10_dataset, cat_indices) # 인덱스에 대응하는 데이터 추출\n",
    "\n",
    "# DataLoader 생성\n",
    "batch_size = 128\n",
    "dataloader = DataLoader(cat_dataset, batch_size=batch_size, shuffle=True)"
   ]
  },
  {
   "cell_type": "code",
   "execution_count": 31,
   "id": "1ae80f92-4faa-4b4a-af90-08d8ec6b1bb3",
   "metadata": {},
   "outputs": [
    {
     "data": {
      "image/png": "[encoded data removed]",
      "text/plain": [
       "<Figure size 1200x400 with 3 Axes>"
      ]
     },
     "metadata": {},
     "output_type": "display_data"
    }
   ],
   "source": [
    "import matplotlib.pyplot as plt\n",
    "import torchvision\n",
    "\n",
    "# DataLoader에서 임의로 3장 선택하여 시각화\n",
    "images, labels = next(iter(dataloader))\n",
    "selected_images = images[:3]  # 첫 3장의 이미지 선택\n",
    "\n",
    "# 이미지를 다시 [0, 1] 범위로 변환 (정규화 해제)\n",
    "selected_images = (selected_images * 0.5) + 0.5\n",
    "\n",
    "# 이미지 출력\n",
    "fig, axs = plt.subplots(1, 3, figsize=(12, 4))\n",
    "for i in range(3):\n",
    "    img = torchvision.transforms.ToPILImage()(selected_images[i])\n",
    "    axs[i].imshow(img)\n",
    "    axs[i].axis('off')\n",
    "    axs[i].set_title(\"Cat Image\")\n",
    "plt.show()"
   ]
  },
  {
   "cell_type": "code",
   "execution_count": null,
   "id": "0ff18ef1-a7a5-4ee9-a16a-1326790aa3d2",
   "metadata": {},
   "outputs": [],
   "source": [
    "# 생성기 모델 정의\n",
    "class Generator(nn.Module):\n",
    "    def __init__(self, nz):\n",
    "        super(Generator, self).__init__()\n",
    "        self.main = nn.Sequential(\n",
    "            nn.ConvTranspose2d(nz, 512, 4, 1, 0, bias=False),\n",
    "             # (입력크기, 채널크기, 커널크기, stride, padding)\n",
    "             # (512, 4, 4)\n",
    "            nn.BatchNorm2d(512),\n",
    "            nn.ReLU(True),\n",
    "            nn.ConvTranspose2d(512, 256, 4, 2, 1, bias=False),\n",
    "            # (256,8,8)\n",
    "            nn.BatchNorm2d(256),\n",
    "            nn.ReLU(True),\n",
    "            nn.ConvTranspose2d(256, 128, 4, 2, 1, bias=False),\n",
    "            # (128, 16, 16)\n",
    "            nn.BatchNorm2d(128),\n",
    "            nn.ReLU(True),\n",
    "            nn.ConvTranspose2d(128, 3, 4, 2, 1, bias=False),\n",
    "            # (3, 32, 32)\n",
    "            nn.Tanh()\n",
    "        )\n",
    "    \n",
    "    def forward(self, input):\n",
    "        return self.main(input)"
   ]
  },
  {
   "cell_type": "code",
   "execution_count": null,
   "id": "452b64a5-703f-403f-9ea4-3244fe33a306",
   "metadata": {},
   "outputs": [],
   "source": [
    "# 판별기 모델 정의\n",
    "class Discriminator(nn.Module):\n",
    "    def __init__(self):\n",
    "        super(Discriminator, self).__init__()\n",
    "        self.main = nn.Sequential(\n",
    "            nn.Conv2d(3, 128, 4, 2, 1, bias=False), \n",
    "            # (128, 16, 16)\n",
    "            nn.LeakyReLU(0.2, inplace=True),\n",
    "            nn.Conv2d(128, 256, 4, 2, 1, bias=False),\n",
    "            # (256, 8, 8)\n",
    "            nn.BatchNorm2d(256),\n",
    "            nn.LeakyReLU(0.2, inplace=True),\n",
    "            nn.Conv2d(256, 512, 4, 2, 1, bias=False),\n",
    "            # (512, 4, 4)\n",
    "            nn.BatchNorm2d(512),\n",
    "            nn.LeakyReLU(0.2, inplace=True),\n",
    "            nn.Conv2d(512, 1, 4, 1, 0, bias=False),\n",
    "            #  (1, 1, 1)\n",
    "            nn.Sigmoid()\n",
    "        )\n",
    "    \n",
    "    def forward(self, input):\n",
    "        return self.main(input)"
   ]
  },
  {
   "cell_type": "code",
   "execution_count": null,
   "id": "a8bfc4f0-32c9-496c-89ee-e70fafa7341c",
   "metadata": {},
   "outputs": [],
   "source": [
    "# 디바이스 설정\n",
    "device = torch.device('cuda' if torch.cuda.is_available() else 'cpu')\n",
    "\n",
    "# 모델 초기화\n",
    "nz = 100  # 노이즈 벡터의 차원\n",
    "\n",
    "criterion = nn.BCELoss()\n",
    "\n",
    "netG = Generator(nz).to(device)\n",
    "netD = Discriminator().to(device)\n",
    "optimizerD = optim.Adam(netD.parameters(), lr=0.0002)\n",
    "optimizerG = optim.Adam(netG.parameters(), lr=0.0002)\n",
    "\n",
    "# 학습 루프\n",
    "num_epochs = 50\n",
    "real_label = 1.0\n",
    "fake_label = 0.0\n",
    "\n",
    "\n",
    "# 학습 루프의 수정된 부분\n",
    "for epoch in range(num_epochs):\n",
    "    for i, data in enumerate(dataloader, 0):\n",
    "        # 판별기 학습: 실제 데이터\n",
    "        netD.zero_grad()\n",
    "        real_images = data[0].to(device)\n",
    "        b_size = real_images.size(0) # batch 크기\n",
    "        labels = torch.full((b_size,), real_label, dtype=torch.float, device=device) # 참값 덩어리들, real 데이터의 참값은 1\n",
    "        \n",
    "        output = netD(real_images).view(-1)\n",
    "        lossD_real = criterion(output, labels)\n",
    "        lossD_real.backward()\n",
    "\n",
    "        # 판별기 학습: 생성된 데이터\n",
    "        noise = torch.randn(b_size, nz, 1, 1, device=device)\n",
    "        fake_images = netG(noise)\n",
    "        labels.fill_(fake_label)\n",
    "        \n",
    "        output = netD(fake_images.detach()).view(-1)\n",
    "        lossD_fake = criterion(output, labels)\n",
    "        lossD_fake.backward()\n",
    "        optimizerD.step()\n",
    "\n",
    "        # 생성기 학습\n",
    "        netG.zero_grad()\n",
    "        labels.fill_(real_label)\n",
    "        output = netD(fake_images).view(-1)\n",
    "        lossG = criterion(output, labels)\n",
    "        lossG.backward()\n",
    "        optimizerG.step()\n",
    "\n",
    "        # 진행 상황 출력\n",
    "        if i % 100 == 0:\n",
    "            print(f'Epoch [{epoch+1}/{num_epochs}] Step [{i}/{len(dataloader)}] '\n",
    "                  f'Loss_D: {lossD_real.item() + lossD_fake.item():.4f} Loss_G: {lossG.item():.4f}')\n",
    "\n",
    "print(\"학습 완료!\")"
   ]
  },
  {
   "cell_type": "code",
   "execution_count": 26,
   "id": "25e3d41a-6f80-45c2-983e-1cf1cd773615",
   "metadata": {},
   "outputs": [
    {
     "data": {
      "image/png": "[encoded data removed]",
      "text/plain": [
       "<Figure size 400x400 with 1 Axes>"
      ]
     },
     "metadata": {},
     "output_type": "display_data"
    }
   ],
   "source": [
    "import matplotlib.pyplot as plt\n",
    "import numpy as np\n",
    "import torchvision.utils as vutils\n",
    "\n",
    "# Generator를 학습된 상태로 둔다고 가정\n",
    "# netG는 학습이 완료된 Generator 모델입니다.\n",
    "\n",
    "# Generator에 입력할 노이즈 벡터 생성\n",
    "nz = 100  # 노이즈 벡터의 차원\n",
    "num_samples = 1  # 생성할 이미지 수\n",
    "noise = torch.randn(num_samples, nz, 1, 1, device=device)\n",
    "\n",
    "# Generator를 통해 가짜 이미지 생성\n",
    "with torch.no_grad():  # Gradient 계산 비활성화 (생성 시 필요 없음)\n",
    "    fake_images = netG(noise).detach().cpu()\n",
    "\n",
    "# 생성된 이미지 시각화\n",
    "plt.figure(figsize=(4, 4))\n",
    "plt.axis(\"off\")\n",
    "plt.imshow(np.transpose(vutils.make_grid(fake_images, padding=2, normalize=True), (1, 2, 0)))\n",
    "plt.show()\n"
   ]
  },
  {
   "cell_type": "code",
   "execution_count": null,
   "id": "e93caa0e-799b-4793-b835-c665ed818424",
   "metadata": {},
   "outputs": [],
   "source": []
  }
 ],
 "metadata": {
  "kernelspec": {
   "display_name": "Python 3 (ipykernel)",
   "language": "python",
   "name": "python3"
  },
  "language_info": {
   "codemirror_mode": {
    "name": "ipython",
    "version": 3
   },
   "file_extension": ".py",
   "mimetype": "text/x-python",
   "name": "python",
   "nbconvert_exporter": "python",
   "pygments_lexer": "ipython3",
   "version": "3.12.4"
  }
 },
 "nbformat": 4,
 "nbformat_minor": 5
}
